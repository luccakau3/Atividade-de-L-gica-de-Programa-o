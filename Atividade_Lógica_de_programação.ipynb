{
  "nbformat": 4,
  "nbformat_minor": 0,
  "metadata": {
    "colab": {
      "provenance": []
    },
    "kernelspec": {
      "name": "python3",
      "display_name": "Python 3"
    },
    "language_info": {
      "name": "python"
    }
  },
  "cells": [
    {
      "cell_type": "code",
      "execution_count": 2,
      "metadata": {
        "colab": {
          "base_uri": "https://localhost:8080/"
        },
        "id": "DCCxEMGOt4UZ",
        "outputId": "9119129e-0767-4da6-b442-a54d6324ff7b"
      },
      "outputs": [
        {
          "output_type": "stream",
          "name": "stdout",
          "text": [
            "Digite a primeira nota: 10\n",
            "Digite a segunda nota: 5\n",
            "\n",
            "Escolha a operação que deseja realizar:\n",
            "1 - Soma (+)\n",
            "2 - Subtração (-)\n",
            "3 - Multiplicação (*)\n",
            "4 - Divisão (/)\n",
            "Digite o número da operação desejada: 4\n",
            "\n",
            "Resultado da divisão: 10.0 / 5.0 = 2.0\n",
            "\n",
            "Deseja realizar outra operação? (s/n): s\n",
            "Digite a primeira nota: 50\n",
            "Digite a segunda nota: 20\n",
            "\n",
            "Escolha a operação que deseja realizar:\n",
            "1 - Soma (+)\n",
            "2 - Subtração (-)\n",
            "3 - Multiplicação (*)\n",
            "4 - Divisão (/)\n",
            "Digite o número da operação desejada: 2\n",
            "\n",
            "Resultado da subtração: 50.0 - 20.0 = 30.0\n",
            "\n",
            "Deseja realizar outra operação? (s/n): s\n",
            "Digite a primeira nota: 10\n",
            "Digite a segunda nota: 20\n",
            "\n",
            "Escolha a operação que deseja realizar:\n",
            "1 - Soma (+)\n",
            "2 - Subtração (-)\n",
            "3 - Multiplicação (*)\n",
            "4 - Divisão (/)\n",
            "Digite o número da operação desejada: 1\n",
            "\n",
            "Resultado da soma: 10.0 + 20.0 = 30.0\n",
            "\n",
            "Deseja realizar outra operação? (s/n): s\n",
            "Digite a primeira nota: 5\n",
            "Digite a segunda nota: 10\n",
            "\n",
            "Escolha a operação que deseja realizar:\n",
            "1 - Soma (+)\n",
            "2 - Subtração (-)\n",
            "3 - Multiplicação (*)\n",
            "4 - Divisão (/)\n",
            "Digite o número da operação desejada: 3\n",
            "\n",
            "Resultado da multiplicação: 5.0 * 10.0 = 50.0\n",
            "\n",
            "Deseja realizar outra operação? (s/n): n\n",
            "\n",
            "Programa encerrado. Até mais!\n"
          ]
        }
      ],
      "source": [
        "while True:\n",
        "    nota1 = float(input('Digite a primeira nota: '))\n",
        "    nota2 = float(input('Digite a segunda nota: '))\n",
        "\n",
        "\n",
        "    print(\"\\nEscolha a operação que deseja realizar:\")\n",
        "    print(\"1 - Soma (+)\")\n",
        "    print(\"2 - Subtração (-)\")\n",
        "    print(\"3 - Multiplicação (*)\")\n",
        "    print(\"4 - Divisão (/)\")\n",
        "\n",
        "\n",
        "    escolha = input(\"Digite o número da operação desejada: \")\n",
        "\n",
        "\n",
        "    if escolha == \"1\":\n",
        "        resultado = nota1 + nota2\n",
        "        print(f\"\\nResultado da soma: {nota1} + {nota2} = {resultado}\")\n",
        "    elif escolha == \"2\":\n",
        "        resultado = nota1 - nota2\n",
        "        print(f\"\\nResultado da subtração: {nota1} - {nota2} = {resultado}\")\n",
        "    elif escolha == \"3\":\n",
        "        resultado = nota1 * nota2\n",
        "        print(f\"\\nResultado da multiplicação: {nota1} * {nota2} = {resultado}\")\n",
        "    elif escolha == \"4\":\n",
        "        if nota2 != 0:\n",
        "            resultado = nota1 / nota2\n",
        "            print(f\"\\nResultado da divisão: {nota1} / {nota2} = {resultado}\")\n",
        "        else:\n",
        "            print(\"\\nErro: divisão por zero não é permitida!\")\n",
        "    else:\n",
        "        print(\"\\nOpção inválida! Tente novamente.\")\n",
        "\n",
        "\n",
        "    continuar = input(\"\\nDeseja realizar outra operação? (s/n): \").lower()\n",
        "    if continuar != \"s\":\n",
        "        print(\"\\nPrograma encerrado. Até mais!\")\n",
        "        break"
      ]
    }
  ]
}